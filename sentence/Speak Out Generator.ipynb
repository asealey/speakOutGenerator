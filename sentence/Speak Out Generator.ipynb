{
 "cells": [
  {
   "cell_type": "markdown",
   "metadata": {},
   "source": [
    "# Setup the environment"
   ]
  },
  {
   "cell_type": "code",
   "execution_count": 2,
   "metadata": {
    "collapsed": false
   },
   "outputs": [],
   "source": [
    "import csv\n",
    "import random"
   ]
  },
  {
   "cell_type": "code",
   "execution_count": 3,
   "metadata": {
    "collapsed": false
   },
   "outputs": [],
   "source": [
    "path = \"../lists/ANC-spoken-count.txt\"\n",
    "nouns = []\n",
    "verbs = []\n",
    "adjs = []\n",
    "\n",
    "parts = {}\n",
    "\n",
    "frequencyLimit = 10\n",
    "hardStarts = ['b','f','m','p','v','w','sp']\n",
    "hardMids = ['b','p','mm', 'sp']"
   ]
  },
  {
   "cell_type": "markdown",
   "metadata": {},
   "source": [
    "# Parse in the data and build the dictionary"
   ]
  },
  {
   "cell_type": "code",
   "execution_count": 4,
   "metadata": {
    "collapsed": false
   },
   "outputs": [],
   "source": [
    "with open(path) as csvFile:\n",
    "    reader = csv.DictReader(csvFile, fieldnames=['word','lemma','POS','count'])\n",
    "    for row in reader:\n",
    "        \n",
    "        # Apply some pre-filters\n",
    "        word = row['word']\n",
    "        row['count'] = int(row['count'])\n",
    "        \n",
    "        # Starting filters\n",
    "\n",
    "        # Frequency Limit\n",
    "        frequent = False\n",
    "        if row['count'] > frequencyLimit:\n",
    "            frequent = True\n",
    "            #print row['count'],frequencyLimit\n",
    "        \n",
    "        # Hard Start\n",
    "        hardStart = False\n",
    "        for start in hardStarts:\n",
    "            if word.startswith(start):\n",
    "                hardStart = True\n",
    "                \n",
    "        # Hard Middle\n",
    "        hardMid = False\n",
    "        for mid in hardMids:\n",
    "            if mid in word:\n",
    "                hardMid = True\n",
    "            \n",
    "        #if frequent and (hardStart or hardMid):\n",
    "        if frequent and (hardStart):\n",
    "\n",
    "            # wholistic word parts\n",
    "            if row['POS'] in ['NN','NNP','NNS', 'NNPS']:\n",
    "                nouns.append(row)\n",
    "            elif row['POS'] in ['VBG','VB','VBN','VBD', 'VBP', 'VBZ']:\n",
    "                verbs.append(row)\n",
    "            elif row['POS'] in ['JJ']:\n",
    "                adjs.append(row)\n",
    "\n",
    "                \n",
    "            # Put all the parts into the parts dictionary\n",
    "            if row['POS'] in parts:\n",
    "                parts[row['POS']].append(row)\n",
    "            else:\n",
    "                parts[row['POS']]=[row]\n",
    "                \n",
    "        # We want all of some classes to tie it together\n",
    "        if row['POS'] in ['PRP$','IN']:\n",
    "            if row['POS'] in parts:\n",
    "                parts[row['POS']].append(row)\n",
    "            else:\n",
    "                parts[row['POS']]=[row] \n",
    "            \n",
    "            "
   ]
  },
  {
   "cell_type": "code",
   "execution_count": 5,
   "metadata": {
    "collapsed": false
   },
   "outputs": [],
   "source": [
    "def chooseWord(general):\n",
    "    return random.choice(general)['word']\n",
    "def choosePart(pos):\n",
    "    return random.choice(parts[pos])['word']\n",
    "def chooseParts(posList):\n",
    "    return [choosePart(pos) for pos in posList]"
   ]
  },
  {
   "cell_type": "markdown",
   "metadata": {},
   "source": [
    "## Print some stats"
   ]
  },
  {
   "cell_type": "code",
   "execution_count": 6,
   "metadata": {
    "collapsed": false
   },
   "outputs": [
    {
     "name": "stdout",
     "output_type": "stream",
     "text": [
      "Nouns: 1668\n",
      "Verbs: 635\n",
      "Adj: 292\n",
      "Total: 2595\n"
     ]
    }
   ],
   "source": [
    "print \"Nouns: %d\" % len(nouns)\n",
    "print \"Verbs: %d\" % len(verbs)\n",
    "print \"Adj: %d\" % len(adjs)\n",
    "print \"Total: %d\" % (len(nouns)+len(verbs)+len(adjs))\n",
    "#print \"\"\n",
    "#print \"Parts: %s\" % nounParts.keys()\n",
    "#for part in parts.keys():\n",
    "#    print part,len(parts[part])"
   ]
  },
  {
   "cell_type": "markdown",
   "metadata": {},
   "source": [
    "## Try a simple sentence structure"
   ]
  },
  {
   "cell_type": "code",
   "execution_count": 7,
   "metadata": {
    "collapsed": false
   },
   "outputs": [
    {
     "name": "stdout",
     "output_type": "stream",
     "text": [
      "Mutual blues believe planner\n"
     ]
    }
   ],
   "source": [
    "# Adjective - Noun - Verb - Noun\n",
    "#print random.choice(adjs)['word'], random.choice(nouns)['word'], random.choice(verbs)['word'], random.choice(nouns)['word']\n",
    "print chooseWord(adjs).title(), chooseWord(nouns), chooseWord(verbs), chooseWord(nouns)"
   ]
  },
  {
   "cell_type": "code",
   "execution_count": 8,
   "metadata": {
    "collapsed": false
   },
   "outputs": [
    {
     "name": "stdout",
     "output_type": "stream",
     "text": [
      "My background is begun through field\n"
     ]
    }
   ],
   "source": [
    "# My lunchbox is filled with mellons\n",
    "# My <NN> is <VBN> <IN> <NNP>\n",
    "print \"My %s is %s %s %s\" % (choosePart('NN'), choosePart('VBN'), choosePart('IN'), choosePart('NNP'))"
   ]
  },
  {
   "cell_type": "code",
   "execution_count": 9,
   "metadata": {
    "collapsed": false
   },
   "outputs": [
    {
     "name": "stdout",
     "output_type": "stream",
     "text": [
      "I want a before various membership\n"
     ]
    }
   ],
   "source": [
    "# I want a puffy power ranger\n",
    "# I want a <RB> <ADJ> <NN>\n",
    "print \"I want a %s %s %s\" % (choosePart('RB'), choosePart('JJ'),choosePart('NN'))"
   ]
  },
  {
   "cell_type": "code",
   "execution_count": 10,
   "metadata": {
    "collapsed": false
   },
   "outputs": [
    {
     "name": "stdout",
     "output_type": "stream",
     "text": [
      "The muscle is a foolish basin\n"
     ]
    }
   ],
   "source": [
    "# The mailman is a bad baseball player\n",
    "# The <NN> is a <ADJ> <NN>\n",
    "print \"The %s is a %s %s\" % (choosePart('NN'), choosePart('JJ'), choosePart('NN'))"
   ]
  },
  {
   "cell_type": "code",
   "execution_count": 11,
   "metadata": {
    "collapsed": false
   },
   "outputs": [
    {
     "name": "stdout",
     "output_type": "stream",
     "text": [
      "A professionally pick-up border\n"
     ]
    }
   ],
   "source": [
    "# A very smelly vacuum\n",
    "# A <ADV> <ADJ> <NN>\n",
    "print \"A %s %s %s\" % (choosePart('RB'),choosePart('JJ'), choosePart('NN'))"
   ]
  },
  {
   "cell_type": "code",
   "execution_count": 12,
   "metadata": {
    "collapsed": false
   },
   "outputs": [
    {
     "name": "stdout",
     "output_type": "stream",
     "text": [
      "The folder painted my play\n"
     ]
    }
   ],
   "source": [
    "# The horse bucked your mom\n",
    "# The <NN> <VBN> <PRP$> <NN>\n",
    "print \"The %s %s %s %s\" % (choosePart('NN'),choosePart('VBN'), choosePart('PRP$'), choosePart('NN'))"
   ]
  },
  {
   "cell_type": "code",
   "execution_count": 13,
   "metadata": {
    "collapsed": false
   },
   "outputs": [
    {
     "name": "stdout",
     "output_type": "stream",
     "text": [
      "bodies fit philosophical mistakes\n"
     ]
    }
   ],
   "source": [
    "# Puffins have white faces\n",
    "# <NNS> <VBP> <JJ> <NNS>\n",
    "print \"%s %s %s %s\" % tuple(chooseParts(['NNS','VBP','JJ','NNS']))"
   ]
  },
  {
   "cell_type": "code",
   "execution_count": 14,
   "metadata": {
    "collapsed": false
   },
   "outputs": [
    {
     "name": "stdout",
     "output_type": "stream",
     "text": [
      "plan my pair with borderline\n"
     ]
    }
   ],
   "source": [
    "# Butter my bread with bacon\n",
    "# <VB> <PRP$> <NN> with <NN>\n",
    "print \"%s %s %s with %s\" % tuple(chooseParts(['VB','PRP$','NN','NN']))"
   ]
  },
  {
   "cell_type": "markdown",
   "metadata": {},
   "source": [
    "# Build a better framework"
   ]
  },
  {
   "cell_type": "code",
   "execution_count": 18,
   "metadata": {
    "collapsed": false
   },
   "outputs": [],
   "source": [
    "grammars = [\n",
    "    (\"%s %s %s with %s\",['VB','PRP$','NN','NN']), # Butter my bread with bacon\n",
    "    (\"%s %s %s %s\",['NNS','VBP','JJ','NNS']), # Puffins have white faces\n",
    "    (\"The %s %s %s %s\",['NN','VBN','PRP$','NN']), # The horse bucked your mom\n",
    "    (\"The %s is a %s %s %s\",['NN','RB','JJ','NN']), # The mailman is a bad baseball player\n",
    "    (\"I want a %s %s %s\",['RB','JJ','NN']), # I want a puffy power ranger\n",
    "    (\"My %s is %s %s %s\",['NN','VBN','IN','NNP']), # My lunchbox is filled with mellons\n",
    "]\n",
    "\n",
    "def genPhrase():\n",
    "    grammar = random.choice(grammars)\n",
    "    #print grammar\n",
    "    phrase = grammar[0] % tuple(chooseParts(grammar[1]))\n",
    "    return phrase[0].upper() + phrase[1:]"
   ]
  },
  {
   "cell_type": "code",
   "execution_count": 19,
   "metadata": {
    "collapsed": false
   },
   "outputs": [
    {
     "data": {
      "text/plain": [
       "'Mean our broccoli with wealth'"
      ]
     },
     "execution_count": 19,
     "metadata": {},
     "output_type": "execute_result"
    }
   ],
   "source": [
    "genPhrase()"
   ]
  },
  {
   "cell_type": "markdown",
   "metadata": {},
   "source": [
    "# Generate a set of phrases"
   ]
  },
  {
   "cell_type": "code",
   "execution_count": 22,
   "metadata": {
    "collapsed": false
   },
   "outputs": [
    {
     "name": "stdout",
     "output_type": "stream",
     "text": [
      "Floods meet fat markets\n",
      "I want a specifically baked bulb\n",
      "I want a fully precious fire\n",
      "The bowl is a prior pathetic plenty\n",
      "Speak her wheelchair with message\n",
      "The flour blocked your bind\n",
      "I want a foremost basic freezing\n",
      "The bind is a but wild frustration\n",
      "I want a politically bloody bin\n",
      "I want a particularly play-off bank\n",
      "I want a properly fascinating winter\n",
      "Beds mean periodic moves\n",
      "I want a whatsoever polish brick\n",
      "My bath is spread beneath bombay\n",
      "The windy fixed their brew\n",
      "The freezer is a maybe precise bluebook\n",
      "My m is paralyzed with pete\n",
      "I want a before fancy wavelength\n",
      "I want a perhaps punched-in-stomach painting\n",
      "The philosopher is a forever peaceful push\n",
      "The merchandise is a forever vital mkay\n",
      "Media plan first-year peas\n",
      "Form their funniest with minimum\n",
      "The percentage is a finally paranoid bacon\n",
      "The program believed its battery\n",
      "Forests perceive frivolous bags\n",
      "The force perceived his product\n",
      "Work your permission with flow\n",
      "I want a possibly minor pronunciation\n",
      "I want a badly spayed feed\n",
      "The pillow voted her fish\n",
      "The metaphase is a prior potential fo\n",
      "Basements put post-transition prisoners\n",
      "The manufacturer married my father-in-law\n",
      "Pick your punch with porch\n",
      "The pack is a better pitiful barrel\n",
      "View our mate with writer\n",
      "I want a backward proud bout\n",
      "The pit is a pretty mad mouse\n",
      "I want a back flip factor\n",
      "The perspective is a mostly worthy place\n",
      "The breakfast is a whatsoever female fellow\n",
      "The sport is a potentially musical packaging\n",
      "The population waited her probation\n",
      "My brew is based across wayne\n",
      "The wool burned her being\n",
      "Freshmen feel minute messages\n",
      "Figure his bunny with molecule\n",
      "The flooding printed my bug\n",
      "The football is a personally bloody me\n",
      "The man pronounced its spread\n",
      "Flows want mixed procedures\n",
      "My finance is packed whether m-r-n-a\n",
      "I want a foremost feasible membrane\n",
      "The philosophy is a forward prohibitive wardrobe\n",
      "Flip my pasture with programmer\n",
      "I want a pretty weird pyruvate\n",
      "Words beat messed printers\n",
      "The finish processed its message\n",
      "The baby is a foremost middle pace\n",
      "The split is a full fake frequency\n",
      "Pros visit federal bills\n",
      "My view is fixed below wv\n",
      "Prove your promise with filter\n",
      "The whack wiped his pond\n",
      "My father-in-law is born onto paris\n",
      "The broccoli is a frequently flex spaniel\n",
      "Buy her freeway with speed\n",
      "I want a forward fantastic moment\n",
      "The mode is a but vast blade\n",
      "I want a previously brave penny\n",
      "Boxes wind fenced budgets\n",
      "My biochem is married towards fishbowl\n",
      "Bulbs wake spring-summer feelings\n",
      "Meet her person with bridge\n",
      "The blanket is a plus foreign flute\n",
      "The moment is a fully black project\n",
      "The machine painted her pain\n",
      "The beam backed its professor\n",
      "Walk her pre with patrol\n",
      "Borrow your bug with bird\n",
      "The whack is a foremost paranoid molding\n",
      "Budgets produce paranoid flows\n",
      "The bake followed my bracket\n",
      "Masters worry funny priorities\n",
      "Blacks vary polluted victims\n",
      "The wrong is a backward bad privacy\n",
      "Blame my migration with body\n",
      "The philosopher is a politically first wagon\n",
      "The spray is a purely beneficial flow\n",
      "I want a further willing missile\n",
      "Varieties bother maxed bacteria\n",
      "The measure parked my furniture\n",
      "Face their flooding with protection\n",
      "I want a further specialized mapping\n",
      "My partner is provided that valley\n",
      "Prices feel worth bodies\n",
      "I want a partly four-oh-one bloom\n",
      "The wreck is a frankly black fax\n",
      "The printer is a fast bankrupt barn\n"
     ]
    }
   ],
   "source": [
    "num = 100\n",
    "for i in range(0,num):\n",
    "    print genPhrase()"
   ]
  },
  {
   "cell_type": "code",
   "execution_count": 17,
   "metadata": {
    "collapsed": false
   },
   "outputs": [],
   "source": []
  }
 ],
 "metadata": {
  "anaconda-cloud": {}
 },
 "nbformat": 4,
 "nbformat_minor": 0
}
